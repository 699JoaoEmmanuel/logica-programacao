{
  "nbformat": 4,
  "nbformat_minor": 0,
  "metadata": {
    "colab": {
      "provenance": []
    },
    "kernelspec": {
      "name": "python3",
      "display_name": "Python 3"
    },
    "language_info": {
      "name": "python"
    }
  },
  "cells": [
    {
      "cell_type": "code",
      "execution_count": 4,
      "metadata": {
        "colab": {
          "base_uri": "https://localhost:8080/"
        },
        "collapsed": true,
        "id": "fs8emvddsgQv",
        "outputId": "f17af4f3-8e02-43a1-e00a-dfd3d09c1cf0"
      },
      "outputs": [
        {
          "output_type": "stream",
          "name": "stdout",
          "text": [
            "Olá! Por favor, insira seu nome:Joao\n",
            "Ola, Joao! Bem vindo à máquina de cálculos\n",
            "digite o primeiro valor: 50\n",
            "digite a operação desejada (+, -, *, /, %):%\n",
            "digite o segundo valor: 200\n",
            "Resultado da operação: 100.0\n"
          ]
        }
      ],
      "source": [
        "nome_usuario = input('Olá! Por favor, insira seu nome:')\n",
        "print(f'Ola, {nome_usuario}! Bem vindo à máquina de cálculos')\n",
        "\n",
        "primeiro_valor = float(input ('digite o primeiro valor: '))\n",
        "operação_desejada = input (\"digite a operação desejada (+, -, *, /, %):\")\n",
        "segundo_valor = float(input('digite o segundo valor: '))\n",
        "\n",
        "if operação_desejada == '+':\n",
        "    resultado = primeiro_valor + segundo_valor\n",
        "elif operação_desejada == '-':\n",
        "    resultado = primeiro_valor - segundo_valor\n",
        "elif operação_desejada == '*':\n",
        "    resultado = primeiro_valor * segundo_valor\n",
        "elif operação_desejada == '/':\n",
        "    if segundo_valor != 0:\n",
        "        resultado = primeiro_valor / segundo_valor\n",
        "    else:\n",
        "        resultado = 'Erro: divisão por zero'\n",
        "elif operação_desejada == '%':\n",
        "    resultado = (primeiro_valor / 100) * segundo_valor\n",
        "else:\n",
        "    resultado = 'Operação inválida'\n",
        "\n",
        "print(f'Resultado da operação: {resultado}')\n"
      ]
    }
  ]
}